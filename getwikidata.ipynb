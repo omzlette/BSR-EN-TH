{
 "cells": [
  {
   "cell_type": "code",
   "execution_count": 1,
   "metadata": {},
   "outputs": [],
   "source": [
    "import xml.etree.ElementTree as ET\n",
    "import glob\n",
    "\n",
    "files = glob.glob('D:/SpeechData/lmdata/enwiki-latest-abstract.xml')\n",
    "\n",
    "for file in files:\n",
    "    with open(file, 'r') as content:\n",
    "        tree = ET.parse(content)\n",
    "        root = tree.getroot()\n",
    "        # elemTags = set()\n",
    "        # # Show all tags\n",
    "        # for elem in root.iter():\n",
    "        #     elemTags.add(elem.tag)\n",
    "        # print(set(elemTags))\n",
    "        absText = [x.text for x in root.findall('.//abstract')]\n",
    "        print(absText[0:5])\n",
    "\n",
    "    # print([x.text for x in root.findall('.//{}'.format('Answer'))])"
   ]
  },
  {
   "cell_type": "code",
   "execution_count": 14,
   "metadata": {},
   "outputs": [],
   "source": [
    "import xml.etree.ElementTree as ET\n",
    "\n",
    "source = 'D:/SpeechData/lmdata/enwiki-latest-abstract.xml'\n",
    "absText = []\n",
    "# Get an iterable.\n",
    "context = ET.iterparse(source, events=(\"start\", \"end\"))\n",
    "    \n",
    "for index, (event, elem) in enumerate(context):\n",
    "    # Get the root element.\n",
    "    if index == 0:\n",
    "        root = elem\n",
    "    if event == \"end\" and elem.tag == \"abstract\":\n",
    "        absText.append(elem.text + '\\n') if elem.text is not None else None\n",
    "        # ... process record elements ...\n",
    "        root.clear()"
   ]
  },
  {
   "cell_type": "code",
   "execution_count": 15,
   "metadata": {},
   "outputs": [
    {
     "name": "stdout",
     "output_type": "stream",
     "text": [
      "6648985\n",
      "False\n"
     ]
    }
   ],
   "source": [
    "print(len(absText))\n",
    "print(any(elem is None for elem in absText))"
   ]
  },
  {
   "cell_type": "code",
   "execution_count": 16,
   "metadata": {},
   "outputs": [
    {
     "name": "stdout",
     "output_type": "stream",
     "text": [
      "691211\n",
      "<class 'list'>\n"
     ]
    }
   ],
   "source": [
    "thSrc = 'D:/SpeechData/lmdata/thwiki_chk.txt'\n",
    "\n",
    "with open(thSrc, 'r', encoding='utf-8') as content:\n",
    "    thText = content.readlines()\n",
    "\n",
    "print(len(thText))\n",
    "print(type(thText))"
   ]
  },
  {
   "cell_type": "code",
   "execution_count": 17,
   "metadata": {},
   "outputs": [
    {
     "name": "stdout",
     "output_type": "stream",
     "text": [
      "7340196\n"
     ]
    }
   ],
   "source": [
    "print(len(thText) + len(absText))"
   ]
  },
  {
   "cell_type": "code",
   "execution_count": 18,
   "metadata": {},
   "outputs": [
    {
     "name": "stdout",
     "output_type": "stream",
     "text": [
      "7340196\n",
      "['หน้า หลัก\\n', 'Anarchism is a political philosophy and movement that is skeptical of all justifications for authority and seeks to abolish the institutions it claims maintain unnecessary coercion and hierarchy, typically including, though not necessarily limited to, governments, nation states, and capitalism. Anarchism advocates for the replacement of the state with stateless societies or other forms of free associations.\\n', 'วิกิพีเดีย ดำเนินการ โดย มูลนิธิ วิกิ มีเดีย องค์กร ไม่ แสวง ผล กำไร ผู้ ดำเนินการ อีก หลาย ได้แก่\\n', 'Albedo (; ) is the measure of the diffuse reflection of solar radiation out of the total solar radiation and measured on a scale from 0, corresponding to a black body that absorbs all incident radiation, to 1, corresponding to a body that reflects all incident radiation.\\n', ' __NOEDITSECTION__\\n']\n"
     ]
    }
   ],
   "source": [
    "# Merge two lists and alternate between them\n",
    "from itertools import chain, zip_longest\n",
    "\n",
    "result = [x for x in chain(*zip_longest(thText, absText)) if x is not None]\n",
    "print(len(result))\n",
    "print(result[0:5])"
   ]
  },
  {
   "cell_type": "code",
   "execution_count": 19,
   "metadata": {},
   "outputs": [],
   "source": [
    "with open('D:/SpeechData/lmdata/th_en_merged.txt', 'w', encoding='utf-8') as content:\n",
    "    content.writelines(result)"
   ]
  },
  {
   "cell_type": "code",
   "execution_count": 20,
   "metadata": {},
   "outputs": [
    {
     "name": "stdout",
     "output_type": "stream",
     "text": [
      "7340196\n"
     ]
    }
   ],
   "source": [
    "with open('D:/SpeechData/lmdata/th_en_merged.txt', 'r', encoding='utf-8') as content:\n",
    "    thText = content.readlines()\n",
    "\n",
    "print(len(thText))"
   ]
  }
 ],
 "metadata": {
  "kernelspec": {
   "display_name": "nlp",
   "language": "python",
   "name": "python3"
  },
  "language_info": {
   "codemirror_mode": {
    "name": "ipython",
    "version": 3
   },
   "file_extension": ".py",
   "mimetype": "text/x-python",
   "name": "python",
   "nbconvert_exporter": "python",
   "pygments_lexer": "ipython3",
   "version": "3.10.9"
  },
  "orig_nbformat": 4
 },
 "nbformat": 4,
 "nbformat_minor": 2
}
