{
 "cells": [
  {
   "attachments": {},
   "cell_type": "markdown",
   "metadata": {},
   "source": [
    "# **Class Project ROUND 2**\n",
    "\n",
    "Reference:\n",
    "https://colab.research.google.com/github/acabunoc/Tutorial-train-dutch-model/blob/master/DeepSpeech_train_a_model%2C_CV_Dutch.ipynb?authuser=1#scrollTo=-u3Z0ZhndKrP"
   ]
  },
  {
   "cell_type": "code",
   "execution_count": 1,
   "metadata": {},
   "outputs": [],
   "source": [
    "import getpass\n",
    "password = getpass.getpass()"
   ]
  },
  {
   "cell_type": "code",
   "execution_count": 2,
   "metadata": {},
   "outputs": [
    {
     "name": "stdout",
     "output_type": "stream",
     "text": [
      "/bin/bash: /home/omzlette/miniconda3/envs/bsr/lib/libtinfo.so.6: no version information available (required by /bin/bash)\n",
      "Reading package lists... Done \n",
      "Building dependency tree       \n",
      "Reading state information... Done\n",
      "git-lfs is already the newest version (2.9.2-1).\n",
      "0 upgraded, 0 newly installed, 0 to remove and 0 not upgraded.\n"
     ]
    }
   ],
   "source": [
    "!echo {password} | sudo -S apt-get install git-lfs"
   ]
  },
  {
   "attachments": {},
   "cell_type": "markdown",
   "metadata": {},
   "source": [
    "Getting the training code from DeepSpeech  \n",
    "**NOTE**: If you can't run the code using VS Code, run it manually in the system's terminal."
   ]
  },
  {
   "cell_type": "code",
   "execution_count": 3,
   "metadata": {},
   "outputs": [
    {
     "name": "stdout",
     "output_type": "stream",
     "text": [
      "/bin/bash: /home/omzlette/miniconda3/envs/bsr/lib/libtinfo.so.6: no version information available (required by /bin/bash)\n",
      "fatal: destination path 'DeepSpeech' already exists and is not an empty directory.\n"
     ]
    }
   ],
   "source": [
    "!git clone https://github.com/mozilla/DeepSpeech --branch v0.9.3"
   ]
  },
  {
   "cell_type": "code",
   "execution_count": 4,
   "metadata": {},
   "outputs": [
    {
     "name": "stdout",
     "output_type": "stream",
     "text": [
      "/home/omzlette/BSR-Project/DeepSpeech\n",
      "/bin/bash: /home/omzlette/miniconda3/envs/bsr/lib/libtinfo.so.6: no version information available (required by /bin/bash)\n"
     ]
    }
   ],
   "source": [
    "%cd DeepSpeech\n",
    "!git lfs pull"
   ]
  },
  {
   "attachments": {},
   "cell_type": "markdown",
   "metadata": {},
   "source": [
    "Create a new virtual environment for DeepSpeech"
   ]
  },
  {
   "cell_type": "code",
   "execution_count": 5,
   "metadata": {},
   "outputs": [
    {
     "name": "stdout",
     "output_type": "stream",
     "text": [
      "/bin/bash: /home/omzlette/miniconda3/envs/bsr/lib/libtinfo.so.6: no version information available (required by /bin/bash)\n",
      "Requirement already satisfied: virtualenv in /home/omzlette/miniconda3/envs/bsr/lib/python3.9/site-packages (20.21.0)\n",
      "Requirement already satisfied: platformdirs<4,>=2.4 in /home/omzlette/miniconda3/envs/bsr/lib/python3.9/site-packages (from virtualenv) (3.2.0)\n",
      "Requirement already satisfied: filelock<4,>=3.4.1 in /home/omzlette/miniconda3/envs/bsr/lib/python3.9/site-packages (from virtualenv) (3.11.0)\n",
      "Requirement already satisfied: distlib<1,>=0.3.6 in /home/omzlette/miniconda3/envs/bsr/lib/python3.9/site-packages (from virtualenv) (0.3.6)\n",
      "Note: you may need to restart the kernel to use updated packages.\n",
      "/bin/bash: /home/omzlette/miniconda3/envs/bsr/lib/libtinfo.so.6: no version information available (required by /bin/bash)\n",
      "created virtual environment CPython3.9.16.final.0-64 in 80ms\n",
      "  creator CPython3Posix(dest=/home/omzlette/BSR-Project/venv, clear=False, no_vcs_ignore=False, global=False)\n",
      "  seeder FromAppData(download=False, pip=bundle, setuptools=bundle, wheel=bundle, via=copy, app_data_dir=/home/omzlette/.local/share/virtualenv)\n",
      "    added seed packages: pip==23.0.1, setuptools==67.4.0, wheel==0.38.4\n",
      "  activators BashActivator,CShellActivator,FishActivator,NushellActivator,PowerShellActivator,PythonActivator\n"
     ]
    }
   ],
   "source": [
    "%pip install virtualenv\n",
    "!virtualenv -p python $HOME/BSR-Project/venv"
   ]
  },
  {
   "cell_type": "code",
   "execution_count": 6,
   "metadata": {},
   "outputs": [
    {
     "name": "stdout",
     "output_type": "stream",
     "text": [
      "/bin/bash: /home/omzlette/miniconda3/envs/bsr/lib/libtinfo.so.6: no version information available (required by /bin/bash)\n"
     ]
    }
   ],
   "source": [
    "!source $HOME/BSR-Project/venv/bin/activate"
   ]
  },
  {
   "attachments": {},
   "cell_type": "markdown",
   "metadata": {},
   "source": [
    "Install DeepSpeech package"
   ]
  },
  {
   "cell_type": "code",
   "execution_count": 7,
   "metadata": {},
   "outputs": [
    {
     "name": "stdout",
     "output_type": "stream",
     "text": [
      "/bin/bash: /home/omzlette/miniconda3/envs/bsr/lib/libtinfo.so.6: no version information available (required by /bin/bash)\n",
      "Requirement already satisfied: pip in /home/omzlette/miniconda3/envs/bsr/lib/python3.9/site-packages (23.0.1)\n",
      "Requirement already satisfied: setuptools in /home/omzlette/miniconda3/envs/bsr/lib/python3.9/site-packages (67.6.1)\n",
      "Requirement already satisfied: wheel in /home/omzlette/miniconda3/envs/bsr/lib/python3.9/site-packages (0.40.0)\n",
      "Note: you may need to restart the kernel to use updated packages.\n"
     ]
    }
   ],
   "source": [
    "%pip install --upgrade pip setuptools wheel"
   ]
  },
  {
   "cell_type": "code",
   "execution_count": 8,
   "metadata": {},
   "outputs": [
    {
     "name": "stdout",
     "output_type": "stream",
     "text": [
      "/bin/bash: /home/omzlette/miniconda3/envs/bsr/lib/libtinfo.so.6: no version information available (required by /bin/bash)\n",
      "Requirement already satisfied: deepspeech-gpu in /home/omzlette/miniconda3/envs/bsr/lib/python3.9/site-packages (0.9.3)\n",
      "Requirement already satisfied: numpy>=1.19.4 in /home/omzlette/miniconda3/envs/bsr/lib/python3.9/site-packages (from deepspeech-gpu) (1.23.5)\n",
      "Note: you may need to restart the kernel to use updated packages.\n"
     ]
    }
   ],
   "source": [
    "%pip install deepspeech-gpu"
   ]
  },
  {
   "cell_type": "code",
   "execution_count": 12,
   "metadata": {},
   "outputs": [
    {
     "name": "stdout",
     "output_type": "stream",
     "text": [
      "/home/omzlette/BSR-Project/data\n",
      "/bin/bash: /home/omzlette/miniconda3/envs/bsr/lib/libtinfo.so.6: no version information available (required by /bin/bash)\n",
      "/home/omzlette/BSR-Project/data/th\n",
      "/bin/bash: /home/omzlette/miniconda3/envs/bsr/lib/libtinfo.so.6: no version information available (required by /bin/bash)\n",
      "--2023-04-11 16:52:37--  https://mozilla-common-voice-datasets.s3.dualstack.us-west-2.amazonaws.com/cv-corpus-12.0-2022-12-07/cv-corpus-12.0-2022-12-07-th.tar.gz\n",
      "Resolving mozilla-common-voice-datasets.s3.dualstack.us-west-2.amazonaws.com (mozilla-common-voice-datasets.s3.dualstack.us-west-2.amazonaws.com)... 52.92.211.10, 52.218.128.125, 52.92.176.34, ...\n",
      "Connecting to mozilla-common-voice-datasets.s3.dualstack.us-west-2.amazonaws.com (mozilla-common-voice-datasets.s3.dualstack.us-west-2.amazonaws.com)|52.92.211.10|:443... connected.\n",
      "HTTP request sent, awaiting response... 200 OK\n",
      "Length: 8380070534 (7.8G) [application/octet-stream]\n",
      "Saving to: ‘cv-corpus-12.0-2022-12-07-th.tar.gz’\n",
      "\n",
      "cv-corpus-12.0-2022 100%[===================>]   7.80G  6.01MB/s    in 29m 17s \n",
      "\n",
      "2023-04-11 17:21:56 (4.55 MB/s) - ‘cv-corpus-12.0-2022-12-07-th.tar.gz’ saved [8380070534/8380070534]\n",
      "\n"
     ]
    }
   ],
   "source": [
    "%cd ~/BSR-Project/data\n",
    "%mkdir th\n",
    "%cd th\n",
    "!wget https://mozilla-common-voice-datasets.s3.dualstack.us-west-2.amazonaws.com/cv-corpus-12.0-2022-12-07/cv-corpus-12.0-2022-12-07-th.tar.gz"
   ]
  }
 ],
 "metadata": {
  "kernelspec": {
   "display_name": "bsr",
   "language": "python",
   "name": "python3"
  },
  "language_info": {
   "codemirror_mode": {
    "name": "ipython",
    "version": 3
   },
   "file_extension": ".py",
   "mimetype": "text/x-python",
   "name": "python",
   "nbconvert_exporter": "python",
   "pygments_lexer": "ipython3",
   "version": "3.9.16"
  },
  "orig_nbformat": 4
 },
 "nbformat": 4,
 "nbformat_minor": 2
}
