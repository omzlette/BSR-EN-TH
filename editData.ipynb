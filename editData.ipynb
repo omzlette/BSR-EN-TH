{
 "cells": [
  {
   "cell_type": "code",
   "execution_count": null,
   "metadata": {},
   "outputs": [],
   "source": [
    "import os\n",
    "\n",
    "projectDir = os.path.expanduser('~/BSR-Project/')\n",
    "alphabetAll_path = os.path.join(projectDir, 'models/alphabetALL.txt')\n",
    "alphabetTH_path = os.path.join(projectDir, 'models/alphabetTH.txt')\n",
    "alphabetEN_path = os.path.join(projectDir, 'models/alphabetEN.txt')\n",
    "\n",
    "enAlpList = ['a', 'b', 'c', 'd', 'e', 'f', 'g', 'h', 'i', 'j', 'k', 'l', 'm', 'n', 'o', 'p', 'q', 'r', 's', 't', 'u', 'v', 'w', 'x', 'y', 'z']\n",
    "thAlpList = ['ก', 'ข', 'ฃ', 'ค', 'ฅ', 'ฆ', 'ง', 'จ', 'ฉ', 'ช', 'ซ', 'ฌ', 'ญ', 'ฎ', 'ฏ', 'ฐ', 'ฑ', 'ฒ', 'ณ', 'ด', 'ต', 'ถ', 'ท', 'ธ', 'น', 'บ',\n",
    "             'ป', 'ผ', 'ฝ', 'พ', 'ฟ', 'ภ', 'ม', 'ย', 'ร', 'ล', 'ว', 'ศ', 'ษ', 'ส', 'ห', 'ฬ', 'อ', 'ฮ', 'ฯ', 'ะ', 'ั', 'า', 'ำ', 'ิ', 'ี', 'ึ', 'ื', 'ุ', 'ู', 'ฺ',\n",
    "             'เ', 'แ', 'โ', 'ใ', 'ไ', 'ๅ', 'ๆ', '็', '่', '้', '๊', '๋', '์', 'ํ', '๎']\n",
    "# specialCharEN = [\"'\", '\"', ',', '.', '?', '!']\n",
    "# specialCharTH = [\"'\", '\"', '?', '!']\n",
    "# sortedAlpList_all = sorted(enAlpList + thAlpList + [\"'\", '\"', ',', '.', '?', '!'])\n",
    "sortedAlpList_all = sorted(enAlpList + thAlpList)\n",
    "sortedAlpList_TH = sorted(thAlpList + [\"'\", '\"', '?', '!'])\n",
    "sortedAlpList_EN = sorted(enAlpList + [\"'\", '\"', ',', '.', '?', '!'])\n",
    "\n",
    "alpList = zip([alphabetAll_path, alphabetTH_path, alphabetEN_path], [sortedAlpList_all, sortedAlpList_TH, sortedAlpList_EN])\n",
    "# Generate alphabet.txt\n",
    "for alphabet_path, sortedAlpList in alpList:\n",
    "    with open(alphabet_path, 'w') as f:\n",
    "        f.write(' ' + '\\n')\n",
    "        for i in sortedAlpList:\n",
    "            f.write(i + '\\n')\n",
    "        f.write('\\n')"
   ]
  },
  {
   "cell_type": "code",
   "execution_count": 1,
   "metadata": {},
   "outputs": [],
   "source": [
    "import pandas as pd\n",
    "\n",
    "train = pd.read_csv('~/BSR-Project/data/th/cv-corpus-12.0-2022-12-07/th/clips/train.csv')\n",
    "test = pd.read_csv('~/BSR-Project/data/th/cv-corpus-12.0-2022-12-07/th/clips/test.csv')\n",
    "dev = pd.read_csv('~/BSR-Project/data/th/cv-corpus-12.0-2022-12-07/th/clips/dev.csv')"
   ]
  },
  {
   "cell_type": "code",
   "execution_count": null,
   "metadata": {},
   "outputs": [
    {
     "name": "stdout",
     "output_type": "stream",
     "text": [
      "Index([   42,   370,   714,   916,   946,  1023,  1025,  1120,  1285,  1456,\n",
      "        1671,  1853,  1916,  2206,  2275,  2915,  2928,  2999,  3268,  3334,\n",
      "        3529,  3649,  3943,  4260,  4295,  4346,  4362,  4460,  4633,  4805,\n",
      "        4925,  5307,  5347,  6320,  6684,  6687,  6798,  6877,  7021,  7139,\n",
      "        7566,  7590,  7671,  7702,  8076,  8138,  8463,  8691,  8801,  8838,\n",
      "        8857,  8928,  9132,  9177,  9275,  9287,  9359,  9380,  9449,  9590,\n",
      "        9654,  9731,  9761,  9770,  9966, 10012, 10141, 10150, 10220, 10251,\n",
      "       10437, 10465, 10587],\n",
      "      dtype='int64')\n",
      "Index([   74,   143,   324,   481,   497,   635,  1050,  1068,  1323,  1414,\n",
      "        1618,  1726,  1837,  1902,  2106,  2413,  2537,  2661,  2756,  3042,\n",
      "        3201,  3457,  3527,  3533,  3534,  3548,  3652,  3818,  3852,  3994,\n",
      "        4000,  4065,  4141,  4344,  4674,  4937,  5190,  5818,  5831,  6181,\n",
      "        6199,  6204,  6274,  6395,  6461,  6464,  6536,  6594,  6658,  6774,\n",
      "        6888,  6889,  6896,  6942,  7066,  7076,  7369,  7381,  7917,  8149,\n",
      "        8445,  8469,  8475,  8493,  8579,  8625,  8630,  8684,  8750,  8847,\n",
      "        8985,  9418,  9425,  9458,  9860,  9866, 10049, 10159, 10167, 10200,\n",
      "       10227, 10434, 10534],\n",
      "      dtype='int64')\n"
     ]
    }
   ],
   "source": [
    "print(train[train['transcript'].str.contains(\"'\")].index)\n",
    "print(test[test['transcript'].str.contains(\"'\")].index)\n",
    "print(dev[dev['transcript'].str.contains(\"'\")].index)"
   ]
  },
  {
   "cell_type": "code",
   "execution_count": null,
   "metadata": {},
   "outputs": [],
   "source": [
    "train['transcript'] = train['transcript'].apply(lambda x: x.replace(\"'\", \"\"))\n",
    "test['transcript'] = test['transcript'].apply(lambda x: x.replace(\"'\", \"\"))\n",
    "dev['transcript'] = dev['transcript'].apply(lambda x: x.replace(\"'\", \"\"))\n",
    "\n",
    "train.to_csv('~/BSR-Project/data/th/cv-corpus-12.0-2022-12-07/th/clips/train.csv', index=False)\n",
    "test.to_csv('~/BSR-Project/data/th/cv-corpus-12.0-2022-12-07/th/clips/test.csv', index=False)\n",
    "dev.to_csv('~/BSR-Project/data/th/cv-corpus-12.0-2022-12-07/th/clips/dev.csv', index=False)"
   ]
  },
  {
   "cell_type": "code",
   "execution_count": 2,
   "metadata": {},
   "outputs": [],
   "source": [
    "train10p = train.sample(frac=0.1, random_state=1)\n",
    "test10p = test.sample(frac=0.1, random_state=1)\n",
    "dev10p = dev.sample(frac=0.1, random_state=1)\n",
    "\n",
    "train10p.to_csv('~/BSR-Project/data/th/cv-corpus-12.0-2022-12-07/th/clips/train10p.csv', index=False)\n",
    "test10p.to_csv('~/BSR-Project/data/th/cv-corpus-12.0-2022-12-07/th/clips/test10p.csv', index=False)\n",
    "dev10p.to_csv('~/BSR-Project/data/th/cv-corpus-12.0-2022-12-07/th/clips/dev10p.csv', index=False)"
   ]
  },
  {
   "cell_type": "code",
   "execution_count": 7,
   "metadata": {},
   "outputs": [
    {
     "name": "stdout",
     "output_type": "stream",
     "text": [
      "Train full size: 4132441684\n",
      "Train 10% size: 408404408\n"
     ]
    }
   ],
   "source": [
    "print(f\"Train full size: {train['wav_filesize'].sum()}\")\n",
    "print(f\"Train 10% size: {train10p['wav_filesize'].sum()}\")"
   ]
  },
  {
   "cell_type": "code",
   "execution_count": 8,
   "metadata": {},
   "outputs": [
    {
     "name": "stdout",
     "output_type": "stream",
     "text": [
      "Test full size: 1674090414\n",
      "Test 10% size: 168157170\n"
     ]
    }
   ],
   "source": [
    "print(f\"Test full size: {test['wav_filesize'].sum()}\")\n",
    "print(f\"Test 10% size: {test10p['wav_filesize'].sum()}\")"
   ]
  },
  {
   "cell_type": "code",
   "execution_count": 9,
   "metadata": {},
   "outputs": [
    {
     "name": "stdout",
     "output_type": "stream",
     "text": [
      "Dev full size: 1589148184\n",
      "Dev 10% size: 158714154\n"
     ]
    }
   ],
   "source": [
    "print(f\"Dev full size: {dev['wav_filesize'].sum()}\")\n",
    "print(f\"Dev 10% size: {dev10p['wav_filesize'].sum()}\")"
   ]
  }
 ],
 "metadata": {
  "kernelspec": {
   "display_name": "bsr",
   "language": "python",
   "name": "python3"
  },
  "language_info": {
   "codemirror_mode": {
    "name": "ipython",
    "version": 3
   },
   "file_extension": ".py",
   "mimetype": "text/x-python",
   "name": "python",
   "nbconvert_exporter": "python",
   "pygments_lexer": "ipython3",
   "version": "3.9.16"
  },
  "orig_nbformat": 4
 },
 "nbformat": 4,
 "nbformat_minor": 2
}
